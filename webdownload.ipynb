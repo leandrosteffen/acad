{
 "cells": [
  {
   "cell_type": "code",
   "execution_count": 88,
   "id": "dbb5b898",
   "metadata": {},
   "outputs": [],
   "source": [
    "from selenium import webdriver\n",
    "from selenium.webdriver.common.by import By\n",
    "from selenium.webdriver.support.ui import Select\n",
    "from selenium.webdriver.chrome.options import Options\n",
    "import time\n",
    "import os\n",
    "import pandas as pd\n",
    "from selenium.webdriver.chrome.service import Service\n",
    "from webdriver_manager.chrome import ChromeDriverManager"
   ]
  },
  {
   "cell_type": "code",
   "execution_count": 89,
   "id": "9c1b7f34",
   "metadata": {},
   "outputs": [],
   "source": [
    "download_dir = r\"C:\\Users\\laasm\\Desktop\\acad\"\n",
    "\n",
    "# Configurações do Chrome\n",
    "chrome_options = Options()\n",
    "chrome_options.add_experimental_option(\"prefs\", {\n",
    "    \"download.default_directory\": download_dir,\n",
    "    \"download.prompt_for_download\": False,\n",
    "    \"download.directory_upgrade\": True,\n",
    "    \"safebrowsing.enabled\": True  # evita bloqueios de segurança\n",
    "})\n",
    "# Adiciona o modo headless\n",
    "chrome_options.add_argument(\"--headless=new\")  # Use --headless se estiver usando uma versão mais antiga do Chrome\n",
    "chrome_options.add_argument(\"--window-size=1920,1080\")  # Evita problemas com redimensionamento de elementos\n",
    "chrome_options.add_argument(\"--disable-gpu\")  # Recomendado para evitar bugs em alguns sistemas\n",
    "chrome_options.add_argument(\"--no-sandbox\")  # Útil em ambientes Linux\n",
    "# Inicia o Chrome com as opções configuradas\n",
    "driver = webdriver.Chrome(service=Service(ChromeDriverManager().install()), options=chrome_options)"
   ]
  },
  {
   "cell_type": "code",
   "execution_count": 90,
   "id": "59bad866",
   "metadata": {},
   "outputs": [],
   "source": [
    "#chrome_options = Options()\n",
    "#chrome_options.add_experimental_option(\"prefs\", {\n",
    "#    \"download.default_directory\": download_dir,\n",
    "#    \"download.prompt_for_download\": False,\n",
    "#    \"download.directory_upgrade\": True,\n",
    "#    \"safebrowsing.enabled\": True\n",
    "#})"
   ]
  },
  {
   "cell_type": "code",
   "execution_count": 91,
   "id": "1ac438ee",
   "metadata": {},
   "outputs": [],
   "source": [
    "driver = webdriver.Chrome(options=chrome_options)"
   ]
  },
  {
   "cell_type": "code",
   "execution_count": 92,
   "id": "995ae91b",
   "metadata": {},
   "outputs": [],
   "source": [
    "driver.get(\"https://academico.ifms.edu.br/administrativo/\")"
   ]
  },
  {
   "cell_type": "code",
   "execution_count": 93,
   "id": "c85ce6bc",
   "metadata": {},
   "outputs": [],
   "source": [
    "usuario = driver.find_element(By.ID, \"UsuarioLogin\")\n",
    "senha = driver.find_element(By.ID, \"UsuarioSenha\")\n",
    "#botao_login = driver.find_element(By.Value, \"Entrar\")\n",
    "botao_login= driver.find_element(By.XPATH,'//*[@value=\"Entrar\"]')\n",
    "\n",
    "usuario.send_keys(\"leandro.steffen\")\n",
    "senha.send_keys(\"Speed@marela01\")\n",
    "botao_login.click()"
   ]
  },
  {
   "cell_type": "code",
   "execution_count": 94,
   "id": "643dc1b6",
   "metadata": {},
   "outputs": [],
   "source": [
    "driver.get(\"https://academico.ifms.edu.br/administrativo/relatorios/retidos_semestre\")\n",
    "escolha = driver.find_element(By.ID, \"CursoId_chosen\")\n",
    "escolha.click()\n",
    "\n",
    "driver.find_element(By.XPATH, '//li[@data-option-array-index=\"4\"]').click()\n",
    "\n",
    "escolha = driver.find_element(By.ID, \"CursoId_chosen\")\n",
    "escolha.click()\n",
    "driver.find_element(By.XPATH, '//li[@data-option-array-index=\"18\"]').click()\n",
    "\n",
    "escolha = driver.find_element(By.ID, \"CursoId_chosen\")\n",
    "escolha.click()\n",
    "driver.find_element(By.XPATH, '//li[@data-option-array-index=\"8\"]').click()\n",
    "\n",
    "escolha = driver.find_element(By.ID, \"CursoId_chosen\")\n",
    "escolha.click()\n",
    "driver.find_element(By.XPATH, '//li[@data-option-array-index=\"10\"]').click()\n",
    "\n",
    "escolha = driver.find_element(By.ID, \"CursoId_chosen\")\n",
    "escolha.click()\n",
    "driver.find_element(By.XPATH, '//li[@data-option-array-index=\"12\"]').click()\n",
    "\n",
    "escolha = driver.find_element(By.ID, \"CursoId_chosen\")\n",
    "escolha.click()\n",
    "driver.find_element(By.XPATH, '//li[@data-option-array-index=\"14\"]').click()\n",
    "\n",
    "escolha = driver.find_element(By.ID, \"RelatorioSemestre\")\n",
    "escolha.click()\n",
    "\n",
    "#select_element = driver.find_element(By.ID, \"RelatorioSemestre\")\n",
    "seletor = Select(escolha)\n",
    "seletor.select_by_value(\"12\")\n",
    "\n",
    "\n",
    "\n",
    "#escolha = driver.find_element(By.ID, \"RelatorioCargaHoraria\")\n",
    "campo_carga = driver.find_element(By.ID, \"RelatorioCargaHoraria\")\n",
    "campo_carga.clear()            # limpa o campo, se tiver algo já\n",
    "campo_carga.send_keys(\"0\")   \n",
    "\n",
    "#botao_baixar= driver.find_element(By.VALUE,'xls')\n",
    "#botao_baixar.click()\n",
    "\n",
    "botao_xls = driver.find_element(By.XPATH, '//button[@value=\"xls\"]')\n",
    "botao_xls.click()"
   ]
  },
  {
   "cell_type": "code",
   "execution_count": 95,
   "id": "0562d776",
   "metadata": {},
   "outputs": [
    {
     "name": "stdout",
     "output_type": "stream",
     "text": [
      "Convertido com sucesso para: C:\\Users\\laasm\\Desktop\\acad\\trypa5.csv\n"
     ]
    }
   ],
   "source": [
    "time.sleep(60)\n",
    "\n",
    "caminho_xls = r\"C:\\Users\\laasm\\Desktop\\acad\\relatorio_retidos.xls\"\n",
    "\n",
    "# Caminho do novo CSV\n",
    "#caminho_csv = caminho_xls.replace(\".xls\", \".csv\")\n",
    "\n",
    "caminho_csv = r\"C:\\Users\\laasm\\Desktop\\acad\\trypa5.csv\"\n",
    "tabelas = pd.read_html(caminho_xls)\n",
    "df = tabelas[0]  # geralmente a primeira tabela é a que queremos\n",
    "\n",
    "# Salva como CSV\n",
    "df.to_csv(caminho_csv, index=False)\n",
    "\n",
    "print(f\"Convertido com sucesso para: {caminho_csv}\")"
   ]
  }
 ],
 "metadata": {
  "kernelspec": {
   "display_name": "Python 3",
   "language": "python",
   "name": "python3"
  },
  "language_info": {
   "codemirror_mode": {
    "name": "ipython",
    "version": 3
   },
   "file_extension": ".py",
   "mimetype": "text/x-python",
   "name": "python",
   "nbconvert_exporter": "python",
   "pygments_lexer": "ipython3",
   "version": "3.13.3"
  }
 },
 "nbformat": 4,
 "nbformat_minor": 5
}
